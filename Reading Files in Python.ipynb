{
 "cells": [
  {
   "cell_type": "markdown",
   "id": "d58660fb",
   "metadata": {},
   "source": [
    "## Reading a txt file in Python"
   ]
  },
  {
   "cell_type": "code",
   "execution_count": 1,
   "id": "2554211c",
   "metadata": {},
   "outputs": [
    {
     "name": "stdout",
     "output_type": "stream",
     "text": [
      "--------------------------------------------------------------------------------\n",
      "-- TABLES STRUCTURE\n",
      "--------------------------------------------------------------------------------\n",
      "\n",
      "NOTE: these are just extracts from bigger tables, to show their structure\n",
      "\n",
      "  # table name: client \n",
      "\n",
      "|client_id|first_name|middle_name|last_name|date_of_birth|\n",
      "|---------|----------|-----------|---------|-------------|\n",
      "|33       |Susan     |Mapenzi    |Marigu   |1974-06-11   |\n",
      "|35       |Paul      |           |Pogba    |1993-03-15   |\n",
      "|36       |Hafsa     |Wangui     |Munga    |1987-05-07   |\n",
      "|37       |Everlyne  |           |Maten'ge |1973-02-27   |\n",
      "|38       |Barack    |           |Obama    |1961-08-04   |\n",
      "|39       |Prudence  |Salim      |Okeyo    |1985-02-16   |\n",
      "|40       |Rosemary  |Pauline    |Kinyua   |1977-01-27   |\n",
      "|42       |Elizabeth |           |Mbaji    |1975-10-03   |\n",
      "|43       |Johny     |Paul       |Orengo   |1971-07-29   |\n",
      "|44       |Merceline |Lucy       |Njenga   |1982-04-21   |\n",
      "\n",
      "  # table name: loan\n",
      "  \n",
      "|loan_id|client_id|vehicle_id|principal_amount|submitted_on_date|\n",
      "|-------|---------|----------|----------------|-----------------|\n",
      "|75676  |40784    |24        |106500          |2019-05-02       |\n",
      "|75659  |40760    |26        |108400          |2020-12-05       |\n",
      "|75685  |40807    |27        |101500          |2019-05-02       |\n",
      "|75657  |40796    |28        |271482          |2019-06-21       |\n",
      "|75662  |40803    |29        |114400          |2019-05-02       |\n",
      "|75660  |40737    |30        |95300           |2019-05-02       |\n",
      "|75656  |40815    |31        |78500           |2019-05-02       |\n",
      "|75666  |40834    |32        |111800          |2019-05-02       |\n",
      "|75658  |40811    |33        |107050          |2019-05-02       |\n",
      "|75663  |40840    |34        |101800          |2019-05-02       |\n",
      "\n",
      "  # table name: vehicle\n",
      " \n",
      "|vehicle_id|make    |model_name      |\n",
      "|----------|--------|----------------|\n",
      "|24        |Haojin  |HJ 150CC-11A    |\n",
      "|26        |Honda   |Ace CB 125CC ES |\n",
      "|27        |TVS     |HLX 125CC ES    |\n",
      "|29        |TVS     |HLX 150CC X     |\n",
      "|30        |TVS     |HLX 100CC KS    |\n",
      "|31        |Haojin  |HJ 125CC-A      |\n",
      "|32        |Boxer   |BM 150CC (4)    |   \n",
      "|33        |Ferrari |Enzo 6000CC     |\n",
      "|34        |Boxer   |BM 150cc-2      |\n",
      "|35        |Boxer   |BM 150cc-3      |\n",
      "\n",
      "--------------------------------------------------------------------------------\n",
      "-- QUESTIONS\n",
      "--------------------------------------------------------------------------------\n",
      "\n",
      "Using the tables above, please write the SQL code that would answer each of the following questions (write the code below each of them).\n",
      "\n",
      "1. -- Select all the clients called Paul in first_name or middle_name and who are more than 25 years old.\n",
      "   -- In the results, create a column with the client's age in years. \n",
      "   -- Order them from older to younger.\n",
      "    \n",
      "2. -- Add a column to the table from question (1) that contains the number of loans each customer made.\n",
      "   -- If there is no loan, this column should show 0.\n",
      "\n",
      "3. -- Select the 100cc, 125cc and 150cc bikes from the vehicle table.\n",
      "   -- Add an engine_size column to the output (that contains the engine size).\n",
      "\n",
      "4. -- Calculate the total principal_amount per client full name (one column that includes all the names for each client) and per vehicle make.\n",
      "\n",
      "5. -- Select the loan table and add an extra column that shows the chronological loan order for each client based on the submitted_on_date column: \n",
      "   -- 1 if it's the client's first sale, 2 if it's the client's second sale etc.\n",
      "   -- Call it loan_order\n"
     ]
    }
   ],
   "source": [
    "# Reading a txt file using python .read()\n",
    "\n",
    "with open(r'C:\\Users\\Hp\\Downloads\\sql_assessment_watu.txt', 'r') as watu_assessment:\n",
    "    watu_data = watu_assessment.read()\n",
    "print(watu_data)"
   ]
  },
  {
   "cell_type": "code",
   "execution_count": 2,
   "id": "44e7bf1d",
   "metadata": {},
   "outputs": [
    {
     "name": "stdout",
     "output_type": "stream",
     "text": [
      "--------------------------------------------------------------------------------\n",
      "\n",
      "-- TABLES STRUCTURE\n",
      "\n",
      "--------------------------------------------------------------------------------\n",
      "\n",
      "\n",
      "\n",
      "NOTE: these are just extracts from bigger tables, to show their structure\n",
      "\n",
      "\n",
      "\n",
      "  # table name: client \n",
      "\n",
      "\n",
      "\n",
      "|client_id|first_name|middle_name|last_name|date_of_birth|\n",
      "\n",
      "|---------|----------|-----------|---------|-------------|\n",
      "\n",
      "|33       |Susan     |Mapenzi    |Marigu   |1974-06-11   |\n",
      "\n",
      "|35       |Paul      |           |Pogba    |1993-03-15   |\n",
      "\n",
      "|36       |Hafsa     |Wangui     |Munga    |1987-05-07   |\n",
      "\n",
      "|37       |Everlyne  |           |Maten'ge |1973-02-27   |\n",
      "\n",
      "|38       |Barack    |           |Obama    |1961-08-04   |\n",
      "\n",
      "|39       |Prudence  |Salim      |Okeyo    |1985-02-16   |\n",
      "\n",
      "|40       |Rosemary  |Pauline    |Kinyua   |1977-01-27   |\n",
      "\n",
      "|42       |Elizabeth |           |Mbaji    |1975-10-03   |\n",
      "\n",
      "|43       |Johny     |Paul       |Orengo   |1971-07-29   |\n",
      "\n",
      "|44       |Merceline |Lucy       |Njenga   |1982-04-21   |\n",
      "\n",
      "\n",
      "\n",
      "  # table name: loan\n",
      "\n",
      "  \n",
      "\n",
      "|loan_id|client_id|vehicle_id|principal_amount|submitted_on_date|\n",
      "\n",
      "|-------|---------|----------|----------------|-----------------|\n",
      "\n",
      "|75676  |40784    |24        |106500          |2019-05-02       |\n",
      "\n",
      "|75659  |40760    |26        |108400          |2020-12-05       |\n",
      "\n",
      "|75685  |40807    |27        |101500          |2019-05-02       |\n",
      "\n",
      "|75657  |40796    |28        |271482          |2019-06-21       |\n",
      "\n",
      "|75662  |40803    |29        |114400          |2019-05-02       |\n",
      "\n",
      "|75660  |40737    |30        |95300           |2019-05-02       |\n",
      "\n",
      "|75656  |40815    |31        |78500           |2019-05-02       |\n",
      "\n",
      "|75666  |40834    |32        |111800          |2019-05-02       |\n",
      "\n",
      "|75658  |40811    |33        |107050          |2019-05-02       |\n",
      "\n",
      "|75663  |40840    |34        |101800          |2019-05-02       |\n",
      "\n",
      "\n",
      "\n",
      "  # table name: vehicle\n",
      "\n",
      " \n",
      "\n",
      "|vehicle_id|make    |model_name      |\n",
      "\n",
      "|----------|--------|----------------|\n",
      "\n",
      "|24        |Haojin  |HJ 150CC-11A    |\n",
      "\n",
      "|26        |Honda   |Ace CB 125CC ES |\n",
      "\n",
      "|27        |TVS     |HLX 125CC ES    |\n",
      "\n",
      "|29        |TVS     |HLX 150CC X     |\n",
      "\n",
      "|30        |TVS     |HLX 100CC KS    |\n",
      "\n",
      "|31        |Haojin  |HJ 125CC-A      |\n",
      "\n",
      "|32        |Boxer   |BM 150CC (4)    |   \n",
      "\n",
      "|33        |Ferrari |Enzo 6000CC     |\n",
      "\n",
      "|34        |Boxer   |BM 150cc-2      |\n",
      "\n",
      "|35        |Boxer   |BM 150cc-3      |\n",
      "\n",
      "\n",
      "\n",
      "--------------------------------------------------------------------------------\n",
      "\n",
      "-- QUESTIONS\n",
      "\n",
      "--------------------------------------------------------------------------------\n",
      "\n",
      "\n",
      "\n",
      "Using the tables above, please write the SQL code that would answer each of the following questions (write the code below each of them).\n",
      "\n",
      "\n",
      "\n",
      "1. -- Select all the clients called Paul in first_name or middle_name and who are more than 25 years old.\n",
      "\n",
      "   -- In the results, create a column with the client's age in years. \n",
      "\n",
      "   -- Order them from older to younger.\n",
      "\n",
      "    \n",
      "\n",
      "2. -- Add a column to the table from question (1) that contains the number of loans each customer made.\n",
      "\n",
      "   -- If there is no loan, this column should show 0.\n",
      "\n",
      "\n",
      "\n",
      "3. -- Select the 100cc, 125cc and 150cc bikes from the vehicle table.\n",
      "\n",
      "   -- Add an engine_size column to the output (that contains the engine size).\n",
      "\n",
      "\n",
      "\n",
      "4. -- Calculate the total principal_amount per client full name (one column that includes all the names for each client) and per vehicle make.\n",
      "\n",
      "\n",
      "\n",
      "5. -- Select the loan table and add an extra column that shows the chronological loan order for each client based on the submitted_on_date column: \n",
      "\n",
      "   -- 1 if it's the client's first sale, 2 if it's the client's second sale etc.\n",
      "\n",
      "   -- Call it loan_order\n"
     ]
    }
   ],
   "source": [
    " # iterating through lines using .readlines()\n",
    "    \n",
    "with open(r'C:\\Users\\Hp\\Downloads\\sql_assessment_watu.txt', 'r') as watu_assessment:\n",
    "    for line in watu_assessment.readlines():\n",
    "        print(line)"
   ]
  },
  {
   "cell_type": "code",
   "execution_count": 3,
   "id": "b23514aa",
   "metadata": {},
   "outputs": [
    {
     "name": "stdout",
     "output_type": "stream",
     "text": [
      "--------------------------------------------------------------------------------\n",
      "\n"
     ]
    }
   ],
   "source": [
    "# reading only the first line in the document\n",
    "\n",
    "with open(r'C:\\Users\\Hp\\Downloads\\sql_assessment_watu.txt', 'r') as watu_assessment:\n",
    "    first_line = watu_assessment.readline()\n",
    "print(first_line)"
   ]
  },
  {
   "cell_type": "markdown",
   "id": "4db1adbc",
   "metadata": {},
   "source": [
    "## Reading a CSV file in Python"
   ]
  },
  {
   "cell_type": "code",
   "execution_count": 4,
   "id": "7c1e06d2",
   "metadata": {},
   "outputs": [
    {
     "name": "stdout",
     "output_type": "stream",
     "text": [
      "True\n"
     ]
    }
   ],
   "source": [
    "# checking whether the file is readable using .readble()\n",
    "\n",
    "with open(r'C:\\Users\\Hp\\Desktop\\Interview assessments\\Wasoko Assessment\\orders.csv', 'r') as wasoko_orders:\n",
    "    wasoko_data = wasoko_orders.readable()\n",
    "print(wasoko_data)"
   ]
  },
  {
   "cell_type": "code",
   "execution_count": 5,
   "id": "c3b2c5a7",
   "metadata": {},
   "outputs": [
    {
     "name": "stdout",
     "output_type": "stream",
     "text": [
      "day_date,year_month,orderitem_id,order_id,product_id,customer_id,sales_price\n",
      "1/1/2015,01_2015,11,1,1,10001,10\n",
      "1/1/2015,01_2015,12,1,2,10001,25\n",
      "1/13/2015,01_2015,21,2,1,10002,10\n",
      "1/22/2015,01_2015,31,3,3,10001,40\n",
      "2/2/2015,02_2015,41,4,3,10002,40\n",
      "3/23/2015,03_2015,51,5,4,10003,50\n",
      "\n"
     ]
    }
   ],
   "source": [
    "#reading a csv file in python using .read()\n",
    "\n",
    "with open(r'C:\\Users\\Hp\\Desktop\\Interview assessments\\Wasoko Assessment\\orders.csv', 'r') as wasoko_orders:\n",
    "    wasoko_data = wasoko_orders.read()\n",
    "print(wasoko_data)"
   ]
  },
  {
   "cell_type": "code",
   "execution_count": 6,
   "id": "0de25ef3",
   "metadata": {},
   "outputs": [
    {
     "name": "stdout",
     "output_type": "stream",
     "text": [
      "day_date,year_month,orderitem_id,order_id,product_id,customer_id,sales_price\n",
      "\n",
      "1/1/2015,01_2015,11,1,1,10001,10\n",
      "\n",
      "1/1/2015,01_2015,12,1,2,10001,25\n",
      "\n",
      "1/13/2015,01_2015,21,2,1,10002,10\n",
      "\n",
      "1/22/2015,01_2015,31,3,3,10001,40\n",
      "\n",
      "2/2/2015,02_2015,41,4,3,10002,40\n",
      "\n",
      "3/23/2015,03_2015,51,5,4,10003,50\n",
      "\n"
     ]
    }
   ],
   "source": [
    "#iterating through the lines in the file using .readlines\n",
    "\n",
    "with open(r'C:\\Users\\Hp\\Desktop\\Interview assessments\\Wasoko Assessment\\orders.csv', 'r') as wasoko_orders:\n",
    "    for line in wasoko_orders:\n",
    "        print(line)"
   ]
  },
  {
   "cell_type": "code",
   "execution_count": 7,
   "id": "6c49ab3e",
   "metadata": {},
   "outputs": [
    {
     "name": "stdout",
     "output_type": "stream",
     "text": [
      "day_date,year_month,orderitem_id,order_id,product_id,customer_id,sales_price\n",
      "\n"
     ]
    }
   ],
   "source": [
    "# reading only the first line in the file using .readline()\n",
    "\n",
    "with open(r'C:\\Users\\Hp\\Desktop\\Interview assessments\\Wasoko Assessment\\orders.csv', 'r') as wasoko_orders:\n",
    "    wasoko_data = wasoko_orders.readline()\n",
    "print(wasoko_data)"
   ]
  },
  {
   "cell_type": "code",
   "execution_count": 8,
   "id": "acfc3043",
   "metadata": {},
   "outputs": [
    {
     "name": "stdout",
     "output_type": "stream",
     "text": [
      "1/1/2015,01_2015,11,1,1,10001,10\n",
      "\n"
     ]
    }
   ],
   "source": [
    "# reading the second line in the file using .readlines\n",
    "\n",
    "with open(r'C:\\Users\\Hp\\Desktop\\Interview assessments\\Wasoko Assessment\\orders.csv', 'r') as wasoko_orders:\n",
    "    wasoko_data = wasoko_orders.readlines()\n",
    "print(wasoko_data[1])"
   ]
  },
  {
   "cell_type": "code",
   "execution_count": 9,
   "id": "b3e7b99a",
   "metadata": {},
   "outputs": [
    {
     "name": "stdout",
     "output_type": "stream",
     "text": [
      "1/1/2015,01_2015,12,1,2,10001,25\n",
      "\n"
     ]
    }
   ],
   "source": [
    "# reading the third line in the file using .readlines\n",
    "\n",
    "with open(r'C:\\Users\\Hp\\Desktop\\Interview assessments\\Wasoko Assessment\\orders.csv', 'r') as wasoko_orders:\n",
    "    wasoko_data = wasoko_orders.readlines()\n",
    "print(wasoko_data[2])"
   ]
  },
  {
   "cell_type": "markdown",
   "id": "1f379626",
   "metadata": {},
   "source": [
    "## Accessing CSV files in a format suitable for programming\n",
    "\n",
    "### How to convert data from CSV files into Dictionary"
   ]
  },
  {
   "cell_type": "markdown",
   "id": "7a891bc0",
   "metadata": {},
   "source": [
    "Creating a list of the email addresses of all users in the client.csv table"
   ]
  },
  {
   "cell_type": "code",
   "execution_count": 10,
   "id": "310daba0",
   "metadata": {},
   "outputs": [
    {
     "name": "stdout",
     "output_type": "stream",
     "text": [
      "client_id,first_name,middle_name,last_name,date_of_birth,email\n",
      "33,Susan     ,Mapenzi    ,Marigu   ,6/11/1974,mapenzisue@gmail.com\n",
      "35,Paul      ,           ,Pogba    ,3/15/1993,paulpogba@yahoo.com\n",
      "36,Hafsa     ,Wangui     ,Munga    ,5/7/1987,wanguihae@gmail.com\n",
      "37,Everlyne  ,           ,Maten'ge ,2/27/1973,everlynematen'ge@yahoo.com\n",
      "38,Barack    ,           ,Obama    ,8/4/1961,barackobama@yahoo.com\n",
      "39,Prudence  ,Salim      ,Okeyo    ,2/16/1985,salimpre@gmail.com\n",
      "40,Rosemary  ,Pauline    ,Kinyua   ,1/27/1977,paulineroe@gmail.com\n",
      "42,Elizabeth ,           ,Mbaji    ,10/3/1975,elizabethmbaji@yahoo.com\n",
      "43,Johny     ,Paul       ,Orengo   ,7/29/1971,pauljoe@gmail.com\n",
      "44,Merceline ,Lucy       ,Njenga   ,4/21/1982,lucymee@gmail.com\n",
      "\n"
     ]
    }
   ],
   "source": [
    "# Reading the client csv file\n",
    "\n",
    "with open(r'C:\\Users\\Hp\\Desktop\\Interview assessments\\Watu Assessment\\Client.csv', 'r') as watu_clients:\n",
    "    client_data = watu_clients.read()\n",
    "print(client_data)"
   ]
  },
  {
   "cell_type": "code",
   "execution_count": 11,
   "id": "6933a996",
   "metadata": {},
   "outputs": [
    {
     "name": "stdout",
     "output_type": "stream",
     "text": [
      "['mapenzisue@gmail.com', 'paulpogba@yahoo.com', 'wanguihae@gmail.com', \"everlynematen'ge@yahoo.com\", 'barackobama@yahoo.com', 'salimpre@gmail.com', 'paulineroe@gmail.com', 'elizabethmbaji@yahoo.com', 'pauljoe@gmail.com', 'lucymee@gmail.com']\n"
     ]
    }
   ],
   "source": [
    "# creating a list of email addresses of clients from the client table\n",
    "\n",
    "import csv\n",
    "\n",
    "list_of_email_addresses = []\n",
    "\n",
    "with open(r'C:\\Users\\Hp\\Desktop\\Interview assessments\\Watu Assessment\\Client.csv', newline = '') as watu_clients:\n",
    "    client_emails = csv.DictReader(watu_clients)\n",
    "    for row in client_emails:\n",
    "        list_of_email_addresses.append(row['email'])\n",
    "        \n",
    "print(list_of_email_addresses)    "
   ]
  },
  {
   "cell_type": "code",
   "execution_count": 12,
   "id": "c07fd52c",
   "metadata": {},
   "outputs": [
    {
     "name": "stdout",
     "output_type": "stream",
     "text": [
      "Product,ID Product,Name,Current,Price,Number in stock\n",
      "CSw2104,Cotton Sweater,100,95,4.1,0.0023\n",
      "WSc6070,Wool Scarf,50,362,3.1,0.017031456\n",
      "OCo8824,Oversized Coat,650,173,3.2,0.016146829\n",
      "LBa2237,Leather Bag,1000,246,3.3,0.012281759\n",
      "LWa7799,Leather Wallet,175,105,3.2,0.02\n",
      "CWa1982,Chronograph Watch,350,65,4.9,0.00014\n",
      "WGl6543,Winter Gloves,75,171,3.1,0.023441955\n",
      "LSw9754,Light Sweatshirt,45,230,3.5,0.012335504\n",
      "ST-3720,Spring T-Shirt,25,145,3.7,0.00452009\n",
      "PSh9297,Polo Shirt,35,25,4.2,0.007590577\n",
      "PSk2742,Pleated Skirt,50,100,4,0.0125\n",
      "LDr4317,Long Dress,125,373,4.5,0.0015\n",
      "SDr6674,Sweater Dress,215,314,3.8,0.018899556\n",
      "BSh1337,Button Shirt,60,199,3.5,0.020247351\n",
      "CBl7926,Cotton Blouse,75,243,3.75,0.016219379\n",
      "LSn4457,Leather Sneakers,175,95,4.7,0.00225\n",
      "FFl5119,Flip Flops,25,250,3.9,0.007859143\n",
      "\n"
     ]
    }
   ],
   "source": [
    "# reading data from the Dim_product csv table using python .read()\n",
    "\n",
    "with open(r'C:\\Users\\Hp\\Desktop\\Datasets for Practice\\Dim_Product.csv', 'r') as company_products:\n",
    "    product_data = company_products.read()\n",
    "print(product_data)"
   ]
  },
  {
   "cell_type": "code",
   "execution_count": 13,
   "id": "e9c237bf",
   "metadata": {},
   "outputs": [
    {
     "name": "stdout",
     "output_type": "stream",
     "text": [
      "['Cotton Sweater', 'Wool Scarf', 'Oversized Coat', 'Leather Bag', 'Leather Wallet', 'Chronograph Watch', 'Winter Gloves', 'Light Sweatshirt', 'Spring T-Shirt', 'Polo Shirt', 'Pleated Skirt', 'Long Dress', 'Sweater Dress', 'Button Shirt', 'Cotton Blouse', 'Leather Sneakers', 'Flip Flops']\n"
     ]
    }
   ],
   "source": [
    "# example 2\n",
    "\n",
    "# creating a list of products from the products dimension table\n",
    "\n",
    "import csv\n",
    "\n",
    "list_of_products = []\n",
    "\n",
    "with open(r'C:\\Users\\Hp\\Desktop\\Datasets for Practice\\Dim_Product.csv', newline = '') as company_products:\n",
    "    product_data = csv.DictReader(company_products)\n",
    "    for row in product_data:\n",
    "        list_of_products.append(row['ID Product'])\n",
    "        \n",
    "print(list_of_products)\n"
   ]
  },
  {
   "cell_type": "markdown",
   "id": "11fdb6ab",
   "metadata": {},
   "source": [
    "## Reading a JSON file in Python"
   ]
  },
  {
   "cell_type": "code",
   "execution_count": 14,
   "id": "44afbc09",
   "metadata": {},
   "outputs": [
    {
     "name": "stdout",
     "output_type": "stream",
     "text": [
      "{'id': '1', 'productname': 'Bearing Ball', 'productnumber': 'BA-8327', 'color': '', 'listprice': 0, 'size': ' ', 'weight': ' ', 'quantityinstock': 1109, 'model': '', 'description': '', 'productcategory': {'subcategory': 'Parts', 'category': 'Components'}}\n"
     ]
    }
   ],
   "source": [
    "# reading a json file\n",
    "\n",
    "import json\n",
    "\n",
    "with open(r'C:\\Users\\Hp\\Desktop\\Datasets for Practice\\product1.json') as product1:\n",
    "    product1_data = json.load(product1)\n",
    "print(product1_data)"
   ]
  },
  {
   "cell_type": "code",
   "execution_count": 17,
   "id": "8ffacdf8",
   "metadata": {},
   "outputs": [
    {
     "name": "stdout",
     "output_type": "stream",
     "text": [
      "1\n",
      "Bearing Ball\n"
     ]
    }
   ],
   "source": [
    "# reading a json file and dispalying the values in the 'id' and 'productname' keys respectively\n",
    "\n",
    "with open(r'C:\\Users\\Hp\\Desktop\\Datasets for Practice\\product1.json') as product1:\n",
    "    product1_data = json.load(product1)\n",
    "print(product1_data['id'])\n",
    "print(product1_data['productname'])"
   ]
  },
  {
   "cell_type": "code",
   "execution_count": 18,
   "id": "ded5c161",
   "metadata": {},
   "outputs": [
    {
     "name": "stdout",
     "output_type": "stream",
     "text": [
      "{'id': '2', 'productname': 'Chainring Nut', 'productnumber': 'CN-6137', 'color': 'Silver', 'listprice': 0, 'size': ' ', 'weight': ' ', 'quantityinstock': 1750, 'model': '', 'description': '', 'productcategory': {'subcategory': 'Parts', 'category': 'Components'}}\n"
     ]
    }
   ],
   "source": [
    "# example 2\n",
    "\n",
    "with open(r'C:\\Users\\Hp\\Desktop\\Datasets for Practice\\product2.json') as product2:\n",
    "    product2_data = json.load(product2)\n",
    "print(product2_data)"
   ]
  },
  {
   "cell_type": "code",
   "execution_count": 19,
   "id": "a0c5aae2",
   "metadata": {},
   "outputs": [
    {
     "name": "stdout",
     "output_type": "stream",
     "text": [
      "2\n",
      "Chainring Nut\n",
      "Silver\n"
     ]
    }
   ],
   "source": [
    "with open(r'C:\\Users\\Hp\\Desktop\\Datasets for Practice\\product2.json') as product2:\n",
    "    product2_data = json.load(product2)\n",
    "print(product2_data['id'])\n",
    "print(product2_data['productname'])\n",
    "print(product2_data['color'])"
   ]
  }
 ],
 "metadata": {
  "kernelspec": {
   "display_name": "Python 3 (ipykernel)",
   "language": "python",
   "name": "python3"
  },
  "language_info": {
   "codemirror_mode": {
    "name": "ipython",
    "version": 3
   },
   "file_extension": ".py",
   "mimetype": "text/x-python",
   "name": "python",
   "nbconvert_exporter": "python",
   "pygments_lexer": "ipython3",
   "version": "3.9.12"
  }
 },
 "nbformat": 4,
 "nbformat_minor": 5
}
