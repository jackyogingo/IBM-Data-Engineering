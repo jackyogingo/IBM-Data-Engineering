{
 "cells": [
  {
   "cell_type": "markdown",
   "id": "67aec901",
   "metadata": {},
   "source": [
    "## Creating a connection to the MySQL Database"
   ]
  },
  {
   "cell_type": "code",
   "execution_count": 1,
   "id": "438be207",
   "metadata": {},
   "outputs": [
    {
     "name": "stdout",
     "output_type": "stream",
     "text": [
      "Connection Successful\n"
     ]
    }
   ],
   "source": [
    "# Importing the mysql package\n",
    "\n",
    "import mysql.connector\n",
    "\n",
    "# creating a local db instance\n",
    "\n",
    "mydb = mysql.connector.connect(host=\"127.0.0.1\", user= \"root\", passwd= \"Adhiambo123@\", auth_plugin= \"mysql_native_password\")\n",
    "\n",
    "if mydb.is_connected()==True:\n",
    "    print(\"Connection Successful\")\n",
    "else:\n",
    "    print(\"Connection Unsuccessful\")\n",
    "mydb.close()"
   ]
  },
  {
   "cell_type": "markdown",
   "id": "eb4c00eb",
   "metadata": {},
   "source": [
    "## Creating a New Database in the Local DB Instance"
   ]
  },
  {
   "cell_type": "code",
   "execution_count": 3,
   "id": "7b0453f0",
   "metadata": {},
   "outputs": [],
   "source": [
    "# Creating a new database\n",
    "\n",
    "mydb = mysql.connector.connect(host=\"127.0.0.1\", user= \"root\", passwd= \"Adhiambo123@\", auth_plugin= \"mysql_native_password\")\n",
    "\n",
    "mycursor = mydb.cursor()\n",
    "\n",
    "mycursor.execute(\"Create Database tutorial\")"
   ]
  },
  {
   "cell_type": "code",
   "execution_count": 5,
   "id": "99e24de0",
   "metadata": {},
   "outputs": [
    {
     "name": "stdout",
     "output_type": "stream",
     "text": [
      "('hr',)\n",
      "('information_schema',)\n",
      "('mysql',)\n",
      "('performance_schema',)\n",
      "('sys',)\n",
      "('tutorial',)\n"
     ]
    }
   ],
   "source": [
    "# Checking the databases in the local db instance\n",
    "\n",
    "mydb = mysql.connector.connect(host=\"127.0.0.1\", user= \"root\", passwd= \"Adhiambo123@\", auth_plugin= \"mysql_native_password\")\n",
    "\n",
    "mycursor = mydb.cursor()\n",
    "\n",
    "mycursor.execute(\"show databases\")\n",
    "\n",
    "for db in mycursor:\n",
    "    print(db)"
   ]
  },
  {
   "cell_type": "markdown",
   "id": "42d3f541",
   "metadata": {},
   "source": [
    "## Creating a Table in Our New Database"
   ]
  },
  {
   "cell_type": "code",
   "execution_count": 14,
   "id": "d3f60c89",
   "metadata": {},
   "outputs": [],
   "source": [
    "#creating a table african_cities in the tutorial database\n",
    "\n",
    "mydb = mysql.connector.connect(host=\"127.0.0.1\", user= \"root\", passwd= \"Adhiambo123@\", auth_plugin= \"mysql_native_password\", database= \"tutorial\")\n",
    "\n",
    "mycursor = mydb.cursor()\n",
    "\n",
    "mycursor.execute(\"DROP TABLE IF EXISTS african_cities\")\n",
    "\n",
    "mycursor.execute(\"CREATE TABLE african_cities(country VARCHAR(100),capital_city VARCHAR(100), population bigint)\")\n"
   ]
  },
  {
   "cell_type": "code",
   "execution_count": 13,
   "id": "bcdbd7b4",
   "metadata": {},
   "outputs": [
    {
     "name": "stdout",
     "output_type": "stream",
     "text": [
      "('african_cities',)\n"
     ]
    }
   ],
   "source": [
    "# checking the tables existing in the tutorial database\n",
    "\n",
    "mydb = mysql.connector.connect(host=\"127.0.0.1\", user= \"root\", passwd= \"Adhiambo123@\", auth_plugin= \"mysql_native_password\", database= \"tutorial\")\n",
    "\n",
    "mycursor = mydb.cursor()\n",
    "\n",
    "mycursor.execute(\"show tables\")\n",
    "\n",
    "for tb in mycursor:\n",
    "    print(tb)"
   ]
  },
  {
   "cell_type": "markdown",
   "id": "681db15e",
   "metadata": {},
   "source": [
    "# Inserting Data into the Table"
   ]
  },
  {
   "cell_type": "code",
   "execution_count": 14,
   "id": "cff0011a",
   "metadata": {},
   "outputs": [],
   "source": [
    "# populating the table african_cities with data\n",
    "\n",
    "mydb = mysql.connector.connect(host=\"127.0.0.1\", user= \"root\", passwd= \"Adhiambo123@\", auth_plugin= \"mysql_native_password\", database= \"tutorial\")\n",
    "\n",
    "mycursor = mydb.cursor()\n",
    "\n",
    "sqlform = \"INSERT INTO african_cities(country, capital_city, population)VALUES(%s, %s, %s)\"\n",
    "\n",
    "the_cities = [(\"Kenya\", \"Nairobi\", 2000000), (\"Uganda\", \"Kampala\", 800000), (\"Tanzania\", \"Dar-esalaam\", 850000), ]\n",
    "\n",
    "mycursor.executemany(sqlform, the_cities)\n",
    "\n",
    "mydb.commit()\n",
    "\n",
    "\n"
   ]
  },
  {
   "cell_type": "markdown",
   "id": "11f1141a",
   "metadata": {},
   "source": [
    "# Reading Data in the Table"
   ]
  },
  {
   "cell_type": "code",
   "execution_count": 1,
   "id": "ac24b038",
   "metadata": {},
   "outputs": [
    {
     "name": "stdout",
     "output_type": "stream",
     "text": [
      "Kenya\n"
     ]
    }
   ],
   "source": [
    "# Fetching/Selecting the first country from the african_cities table\n",
    "\n",
    "import mysql.connector\n",
    "\n",
    "mydb = mysql.connector.connect(host=\"127.0.0.1\", user= \"root\", passwd= \"Adhiambo123@\", auth_plugin= \"mysql_native_password\", database= \"tutorial\")\n",
    "\n",
    "mycursor = mydb.cursor()\n",
    "\n",
    "mycursor.execute(\"SELECT country FROM african_cities\")\n",
    "\n",
    "myresult = mycursor.fetchone()\n",
    "\n",
    "for row in myresult:\n",
    "    print(row)"
   ]
  },
  {
   "cell_type": "code",
   "execution_count": 2,
   "id": "a09a6e1e",
   "metadata": {},
   "outputs": [
    {
     "name": "stdout",
     "output_type": "stream",
     "text": [
      "('Kenya', 'Nairobi', 2000000)\n",
      "('Uganda', 'Kampala', 800000)\n",
      "('Tanzania', 'Dar-esalaam', 850000)\n"
     ]
    }
   ],
   "source": [
    "# Fetching/Selecting all rows from the african_cities table\n",
    "\n",
    "mydb = mysql.connector.connect(host=\"127.0.0.1\", user= \"root\", passwd= \"Adhiambo123@\", auth_plugin= \"mysql_native_password\", database= \"tutorial\")\n",
    "\n",
    "mycursor = mydb.cursor()\n",
    "\n",
    "mycursor.execute(\"SELECT * FROM african_cities\")\n",
    "\n",
    "myresult = mycursor.fetchall()\n",
    "\n",
    "for row in myresult:\n",
    "    print(row)\n",
    "\n"
   ]
  },
  {
   "cell_type": "markdown",
   "id": "c9c0e295",
   "metadata": {},
   "source": [
    "# Updating Data in the Table"
   ]
  },
  {
   "cell_type": "code",
   "execution_count": 3,
   "id": "5f0f3a83",
   "metadata": {},
   "outputs": [],
   "source": [
    "# Updating the population of Tanzania. \n",
    "\n",
    "mydb = mysql.connector.connect(host=\"127.0.0.1\", user= \"root\", passwd= \"Adhiambo123@\", auth_plugin= \"mysql_native_password\", database= \"tutorial\")\n",
    "\n",
    "mycursor = mydb.cursor()\n",
    "\n",
    "tz_update = \"UPDATE african_cities SET population = 750000 WHERE country = 'Tanzania'\"\n",
    "\n",
    "myresult = mycursor.execute(tz_update)\n",
    "\n",
    "mydb.commit()\n",
    "\n",
    "\n",
    "   "
   ]
  },
  {
   "cell_type": "markdown",
   "id": "85efab5c",
   "metadata": {},
   "source": [
    "# Deleting Data From the Table"
   ]
  },
  {
   "cell_type": "code",
   "execution_count": 4,
   "id": "c3f3810d",
   "metadata": {},
   "outputs": [],
   "source": [
    "mydb = mysql.connector.connect(host=\"127.0.0.1\", user= \"root\", passwd= \"Adhiambo123@\", auth_plugin= \"mysql_native_password\", database= \"tutorial\")\n",
    "\n",
    "mycursor = mydb.cursor()\n",
    "\n",
    "del_ug = \"DELETE FROM african_cities WHERE country = 'Uganda'\"\n",
    "\n",
    "mycursor.execute(del_ug)\n",
    "\n",
    "mydb.commit()"
   ]
  },
  {
   "cell_type": "markdown",
   "id": "72c108ef",
   "metadata": {},
   "source": [
    " ## Practice Excercise\n",
    " \n",
    " 1. Insert the records of two countries ie  Ethopia and Rwanda\n",
    " 2. Update the population of Nairobi to 2.5 Million people\n",
    " 3. Fetch all rows from the table you have updated\n",
    " "
   ]
  },
  {
   "cell_type": "code",
   "execution_count": 5,
   "id": "01c019bb",
   "metadata": {},
   "outputs": [],
   "source": [
    "# Qn 1. Inserting the records of two countries ie Ethiopia and Rwanda\n",
    "\n",
    "mydb = mysql.connector.connect(host = \"127.0.0.1\", user= \"root\", passwd= \"Adhiambo123@\", auth_plugin= \"mysql_native_password\", database= \"tutorial\")\n",
    "\n",
    "mycursor = mydb.cursor()\n",
    "\n",
    "sqlform= \"INSERT INTO african_cities(country, capital_city, population) VALUES(%s, %s, %s)\"\n",
    "\n",
    "the_cities = [(\"Ethiopia\", \"Addis Ababa\", 800000), (\"Rwanda\", \"Kigali\", 650000)]\n",
    "\n",
    "mycursor.executemany(sqlform, the_cities)\n",
    "\n",
    "mydb.commit()\n"
   ]
  },
  {
   "cell_type": "code",
   "execution_count": 6,
   "id": "1640a3c8",
   "metadata": {},
   "outputs": [],
   "source": [
    "# Qn 2. Updating the population of Nairobi to 2.5 Million people\n",
    "\n",
    "mydb = mysql.connector.connect(host = \"127.0.0.1\", user= \"root\", passwd= \"Adhiambo123@\", auth_plugin= \"mysql_native_password\", database= \"tutorial\")\n",
    "\n",
    "mycursor = mydb.cursor()\n",
    "\n",
    "nai_update = \"UPDATE african_cities SET population = 2500000 WHERE country = 'Kenya'\"\n",
    "\n",
    "mycursor.execute(nai_update)\n",
    "\n",
    "mydb.commit()"
   ]
  },
  {
   "cell_type": "code",
   "execution_count": 8,
   "id": "3cdf1c5a",
   "metadata": {},
   "outputs": [
    {
     "name": "stdout",
     "output_type": "stream",
     "text": [
      "('Kenya', 'Nairobi', 2500000)\n",
      "('Tanzania', 'Dar-esalaam', 750000)\n",
      "('Ethiopia', 'Addis Ababa', 800000)\n",
      "('Rwanda', 'Kigali', 650000)\n"
     ]
    }
   ],
   "source": [
    "# Qn 3. Fetch all rows from the table you have updated\n",
    "\n",
    "mydb = mysql.connector.connect(host = \"127.0.0.1\", user= \"root\", passwd= \"Adhiambo123@\", auth_plugin= \"mysql_native_password\", database= \"tutorial\")\n",
    "\n",
    "mycursor = mydb.cursor()\n",
    "\n",
    "mycursor.execute(\"SELECT * FROM african_cities\")\n",
    "\n",
    "myresult = mycursor.fetchall()\n",
    "\n",
    "for row in myresult:\n",
    "    print(row)"
   ]
  }
 ],
 "metadata": {
  "kernelspec": {
   "display_name": "Python 3 (ipykernel)",
   "language": "python",
   "name": "python3"
  },
  "language_info": {
   "codemirror_mode": {
    "name": "ipython",
    "version": 3
   },
   "file_extension": ".py",
   "mimetype": "text/x-python",
   "name": "python",
   "nbconvert_exporter": "python",
   "pygments_lexer": "ipython3",
   "version": "3.9.12"
  }
 },
 "nbformat": 4,
 "nbformat_minor": 5
}
