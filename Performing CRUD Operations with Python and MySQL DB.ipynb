{
 "cells": [
  {
   "cell_type": "markdown",
   "id": "67aec901",
   "metadata": {},
   "source": [
    "## Creating a connection to the MySQL Database"
   ]
  },
  {
   "cell_type": "code",
   "execution_count": 1,
   "id": "438be207",
   "metadata": {},
   "outputs": [
    {
     "name": "stdout",
     "output_type": "stream",
     "text": [
      "Connection Successful\n"
     ]
    }
   ],
   "source": [
    "# Importing the mysql package\n",
    "\n",
    "import mysql.connector\n",
    "\n",
    "# creating a local db instance\n",
    "\n",
    "mydb = mysql.connector.connect(host=\"127.0.0.1\", user= \"root\", passwd= \"Adhiambo123@\", auth_plugin= \"mysql_native_password\")\n",
    "\n",
    "if mydb.is_connected()==True:\n",
    "    print(\"Connection Successful\")\n",
    "else:\n",
    "    print(\"Connection Unsuccessful\")\n",
    "mydb.close()"
   ]
  },
  {
   "cell_type": "markdown",
   "id": "eb4c00eb",
   "metadata": {},
   "source": [
    "## Creating a New Database in the Local DB Instance"
   ]
  },
  {
   "cell_type": "code",
   "execution_count": 3,
   "id": "7b0453f0",
   "metadata": {},
   "outputs": [],
   "source": [
    "# Creating a new database\n",
    "\n",
    "mydb = mysql.connector.connect(host=\"127.0.0.1\", user= \"root\", passwd= \"Adhiambo123@\", auth_plugin= \"mysql_native_password\")\n",
    "\n",
    "mycursor = mydb.cursor()\n",
    "\n",
    "mycursor.execute(\"Create Database tutorial\")"
   ]
  },
  {
   "cell_type": "code",
   "execution_count": 5,
   "id": "99e24de0",
   "metadata": {},
   "outputs": [
    {
     "name": "stdout",
     "output_type": "stream",
     "text": [
      "('hr',)\n",
      "('information_schema',)\n",
      "('mysql',)\n",
      "('performance_schema',)\n",
      "('sys',)\n",
      "('tutorial',)\n"
     ]
    }
   ],
   "source": [
    "# Checking the databases in the local db instance\n",
    "\n",
    "mydb = mysql.connector.connect(host=\"127.0.0.1\", user= \"root\", passwd= \"Adhiambo123@\", auth_plugin= \"mysql_native_password\")\n",
    "\n",
    "mycursor = mydb.cursor()\n",
    "\n",
    "mycursor.execute(\"show databases\")\n",
    "\n",
    "for db in mycursor:\n",
    "    print(db)"
   ]
  },
  {
   "cell_type": "markdown",
   "id": "42d3f541",
   "metadata": {},
   "source": [
    "## Creating a Table in Our New Database"
   ]
  },
  {
   "cell_type": "code",
   "execution_count": 12,
   "id": "d3f60c89",
   "metadata": {
    "collapsed": true
   },
   "outputs": [
    {
     "ename": "ProgrammingError",
     "evalue": "1050 (42S01): Table 'african_cities' already exists",
     "output_type": "error",
     "traceback": [
      "\u001b[1;31m---------------------------------------------------------------------------\u001b[0m",
      "\u001b[1;31mProgrammingError\u001b[0m                          Traceback (most recent call last)",
      "Input \u001b[1;32mIn [12]\u001b[0m, in \u001b[0;36m<cell line: 7>\u001b[1;34m()\u001b[0m\n\u001b[0;32m      3\u001b[0m mydb \u001b[38;5;241m=\u001b[39m mysql\u001b[38;5;241m.\u001b[39mconnector\u001b[38;5;241m.\u001b[39mconnect(host\u001b[38;5;241m=\u001b[39m\u001b[38;5;124m\"\u001b[39m\u001b[38;5;124m127.0.0.1\u001b[39m\u001b[38;5;124m\"\u001b[39m, user\u001b[38;5;241m=\u001b[39m \u001b[38;5;124m\"\u001b[39m\u001b[38;5;124mroot\u001b[39m\u001b[38;5;124m\"\u001b[39m, passwd\u001b[38;5;241m=\u001b[39m \u001b[38;5;124m\"\u001b[39m\u001b[38;5;124mAdhiambo123@\u001b[39m\u001b[38;5;124m\"\u001b[39m, auth_plugin\u001b[38;5;241m=\u001b[39m \u001b[38;5;124m\"\u001b[39m\u001b[38;5;124mmysql_native_password\u001b[39m\u001b[38;5;124m\"\u001b[39m, database\u001b[38;5;241m=\u001b[39m \u001b[38;5;124m\"\u001b[39m\u001b[38;5;124mtutorial\u001b[39m\u001b[38;5;124m\"\u001b[39m)\n\u001b[0;32m      5\u001b[0m mycursor \u001b[38;5;241m=\u001b[39m mydb\u001b[38;5;241m.\u001b[39mcursor()\n\u001b[1;32m----> 7\u001b[0m \u001b[43mmycursor\u001b[49m\u001b[38;5;241;43m.\u001b[39;49m\u001b[43mexecute\u001b[49m\u001b[43m(\u001b[49m\u001b[38;5;124;43m\"\u001b[39;49m\u001b[38;5;124;43mCREATE TABLE african_cities(country VARCHAR(100),capital_city VARCHAR(100), population bigint)\u001b[39;49m\u001b[38;5;124;43m\"\u001b[39;49m\u001b[43m)\u001b[49m\n",
      "File \u001b[1;32m~\\anaconda3\\lib\\site-packages\\mysql\\connector\\cursor.py:551\u001b[0m, in \u001b[0;36mMySQLCursor.execute\u001b[1;34m(self, operation, params, multi)\u001b[0m\n\u001b[0;32m    549\u001b[0m \u001b[38;5;28;01melse\u001b[39;00m:\n\u001b[0;32m    550\u001b[0m     \u001b[38;5;28;01mtry\u001b[39;00m:\n\u001b[1;32m--> 551\u001b[0m         \u001b[38;5;28mself\u001b[39m\u001b[38;5;241m.\u001b[39m_handle_result(\u001b[38;5;28;43mself\u001b[39;49m\u001b[38;5;241;43m.\u001b[39;49m\u001b[43m_connection\u001b[49m\u001b[38;5;241;43m.\u001b[39;49m\u001b[43mcmd_query\u001b[49m\u001b[43m(\u001b[49m\u001b[43mstmt\u001b[49m\u001b[43m)\u001b[49m)\n\u001b[0;32m    552\u001b[0m     \u001b[38;5;28;01mexcept\u001b[39;00m errors\u001b[38;5;241m.\u001b[39mInterfaceError:\n\u001b[0;32m    553\u001b[0m         \u001b[38;5;28;01mif\u001b[39;00m \u001b[38;5;28mself\u001b[39m\u001b[38;5;241m.\u001b[39m_connection\u001b[38;5;241m.\u001b[39m_have_next_result:  \u001b[38;5;66;03m# pylint: disable=W0212\u001b[39;00m\n",
      "File \u001b[1;32m~\\anaconda3\\lib\\site-packages\\mysql\\connector\\connection.py:490\u001b[0m, in \u001b[0;36mMySQLConnection.cmd_query\u001b[1;34m(self, query, raw, buffered, raw_as_string)\u001b[0m\n\u001b[0;32m    488\u001b[0m \u001b[38;5;28;01mif\u001b[39;00m \u001b[38;5;129;01mnot\u001b[39;00m \u001b[38;5;28misinstance\u001b[39m(query, \u001b[38;5;28mbytes\u001b[39m):\n\u001b[0;32m    489\u001b[0m     query \u001b[38;5;241m=\u001b[39m query\u001b[38;5;241m.\u001b[39mencode(\u001b[38;5;124m'\u001b[39m\u001b[38;5;124mutf-8\u001b[39m\u001b[38;5;124m'\u001b[39m)\n\u001b[1;32m--> 490\u001b[0m result \u001b[38;5;241m=\u001b[39m \u001b[38;5;28;43mself\u001b[39;49m\u001b[38;5;241;43m.\u001b[39;49m\u001b[43m_handle_result\u001b[49m\u001b[43m(\u001b[49m\u001b[38;5;28;43mself\u001b[39;49m\u001b[38;5;241;43m.\u001b[39;49m\u001b[43m_send_cmd\u001b[49m\u001b[43m(\u001b[49m\u001b[43mServerCmd\u001b[49m\u001b[38;5;241;43m.\u001b[39;49m\u001b[43mQUERY\u001b[49m\u001b[43m,\u001b[49m\u001b[43m \u001b[49m\u001b[43mquery\u001b[49m\u001b[43m)\u001b[49m\u001b[43m)\u001b[49m\n\u001b[0;32m    492\u001b[0m \u001b[38;5;28;01mif\u001b[39;00m \u001b[38;5;28mself\u001b[39m\u001b[38;5;241m.\u001b[39m_have_next_result:\n\u001b[0;32m    493\u001b[0m     \u001b[38;5;28;01mraise\u001b[39;00m errors\u001b[38;5;241m.\u001b[39mInterfaceError(\n\u001b[0;32m    494\u001b[0m         \u001b[38;5;124m'\u001b[39m\u001b[38;5;124mUse cmd_query_iter for statements with multiple queries.\u001b[39m\u001b[38;5;124m'\u001b[39m)\n",
      "File \u001b[1;32m~\\anaconda3\\lib\\site-packages\\mysql\\connector\\connection.py:395\u001b[0m, in \u001b[0;36mMySQLConnection._handle_result\u001b[1;34m(self, packet)\u001b[0m\n\u001b[0;32m    393\u001b[0m     \u001b[38;5;28;01mreturn\u001b[39;00m \u001b[38;5;28mself\u001b[39m\u001b[38;5;241m.\u001b[39m_handle_eof(packet)\n\u001b[0;32m    394\u001b[0m \u001b[38;5;28;01melif\u001b[39;00m packet[\u001b[38;5;241m4\u001b[39m] \u001b[38;5;241m==\u001b[39m \u001b[38;5;241m255\u001b[39m:\n\u001b[1;32m--> 395\u001b[0m     \u001b[38;5;28;01mraise\u001b[39;00m errors\u001b[38;5;241m.\u001b[39mget_exception(packet)\n\u001b[0;32m    397\u001b[0m \u001b[38;5;66;03m# We have a text result set\u001b[39;00m\n\u001b[0;32m    398\u001b[0m column_count \u001b[38;5;241m=\u001b[39m \u001b[38;5;28mself\u001b[39m\u001b[38;5;241m.\u001b[39m_protocol\u001b[38;5;241m.\u001b[39mparse_column_count(packet)\n",
      "\u001b[1;31mProgrammingError\u001b[0m: 1050 (42S01): Table 'african_cities' already exists"
     ]
    }
   ],
   "source": [
    "#creating a table african_cities in the tutorial database\n",
    "\n",
    "mydb = mysql.connector.connect(host=\"127.0.0.1\", user= \"root\", passwd= \"Adhiambo123@\", auth_plugin= \"mysql_native_password\", database= \"tutorial\")\n",
    "\n",
    "mycursor = mydb.cursor()\n",
    "\n",
    "mycursor.execute(\"CREATE TABLE african_cities(country VARCHAR(100),capital_city VARCHAR(100), population bigint)\")\n"
   ]
  },
  {
   "cell_type": "code",
   "execution_count": 13,
   "id": "bcdbd7b4",
   "metadata": {},
   "outputs": [
    {
     "name": "stdout",
     "output_type": "stream",
     "text": [
      "('african_cities',)\n"
     ]
    }
   ],
   "source": [
    "# checking the tables existing in the tutorial database\n",
    "\n",
    "mydb = mysql.connector.connect(host=\"127.0.0.1\", user= \"root\", passwd= \"Adhiambo123@\", auth_plugin= \"mysql_native_password\", database= \"tutorial\")\n",
    "\n",
    "mycursor = mydb.cursor()\n",
    "\n",
    "mycursor.execute(\"show tables\")\n",
    "\n",
    "for tb in mycursor:\n",
    "    print(tb)"
   ]
  },
  {
   "cell_type": "markdown",
   "id": "681db15e",
   "metadata": {},
   "source": [
    "# Inserting Data into the Table"
   ]
  },
  {
   "cell_type": "code",
   "execution_count": 14,
   "id": "cff0011a",
   "metadata": {},
   "outputs": [],
   "source": [
    "# populating the table african_cities with data\n",
    "\n",
    "mydb = mysql.connector.connect(host=\"127.0.0.1\", user= \"root\", passwd= \"Adhiambo123@\", auth_plugin= \"mysql_native_password\", database= \"tutorial\")\n",
    "\n",
    "mycursor = mydb.cursor()\n",
    "\n",
    "sqlform = \"INSERT INTO african_cities(country, capital_city, population)VALUES(%s, %s, %s)\"\n",
    "\n",
    "the_cities = [(\"Kenya\", \"Nairobi\", 2000000), (\"Uganda\", \"Kampala\", 800000), (\"Tanzania\", \"Dar-esalaam\", 850000), ]\n",
    "\n",
    "mycursor.executemany(sqlform, the_cities)\n",
    "\n",
    "mydb.commit()\n",
    "\n",
    "\n"
   ]
  },
  {
   "cell_type": "markdown",
   "id": "b5417968",
   "metadata": {},
   "source": [
    "# Reading Data in the Table"
   ]
  },
  {
   "cell_type": "code",
   "execution_count": 1,
   "id": "78bba8de",
   "metadata": {},
   "outputs": [
    {
     "name": "stdout",
     "output_type": "stream",
     "text": [
      "Kenya\n"
     ]
    }
   ],
   "source": [
    "# Fetching/Selecting the first country from the african_cities table\n",
    "\n",
    "import mysql.connector\n",
    "\n",
    "mydb = mysql.connector.connect(host=\"127.0.0.1\", user= \"root\", passwd= \"Adhiambo123@\", auth_plugin= \"mysql_native_password\", database= \"tutorial\")\n",
    "\n",
    "mycursor = mydb.cursor()\n",
    "\n",
    "mycursor.execute(\"SELECT country FROM african_cities\")\n",
    "\n",
    "myresult = mycursor.fetchone()\n",
    "\n",
    "for row in myresult:\n",
    "    print(row)"
   ]
  },
  {
   "cell_type": "code",
   "execution_count": 2,
   "id": "4f6d48f2",
   "metadata": {},
   "outputs": [
    {
     "name": "stdout",
     "output_type": "stream",
     "text": [
      "('Kenya', 'Nairobi', 2000000)\n",
      "('Uganda', 'Kampala', 800000)\n",
      "('Tanzania', 'Dar-esalaam', 850000)\n"
     ]
    }
   ],
   "source": [
    "# Fetching/Selecting all rows from the african_cities table\n",
    "\n",
    "mydb = mysql.connector.connect(host=\"127.0.0.1\", user= \"root\", passwd= \"Adhiambo123@\", auth_plugin= \"mysql_native_password\", database= \"tutorial\")\n",
    "\n",
    "mycursor = mydb.cursor()\n",
    "\n",
    "mycursor.execute(\"SELECT * FROM african_cities\")\n",
    "\n",
    "myresult = mycursor.fetchall()\n",
    "\n",
    "for row in myresult:\n",
    "    print(row)\n",
    "\n"
   ]
  },
  {
   "cell_type": "markdown",
   "id": "08ac7584",
   "metadata": {},
   "source": [
    "# Updating Data in the Table"
   ]
  },
  {
   "cell_type": "code",
   "execution_count": 3,
   "id": "674f0285",
   "metadata": {},
   "outputs": [],
   "source": [
    "# Updating the population of Tanzania. \n",
    "\n",
    "mydb = mysql.connector.connect(host=\"127.0.0.1\", user= \"root\", passwd= \"Adhiambo123@\", auth_plugin= \"mysql_native_password\", database= \"tutorial\")\n",
    "\n",
    "mycursor = mydb.cursor()\n",
    "\n",
    "tz_update = \"UPDATE african_cities SET population = 750000 WHERE country = 'Tanzania'\"\n",
    "\n",
    "myresult = mycursor.execute(tz_update)\n",
    "\n",
    "mydb.commit()\n",
    "\n",
    "\n",
    "   "
   ]
  },
  {
   "cell_type": "markdown",
   "id": "358e0357",
   "metadata": {},
   "source": [
    "# Deleting Data From the Table"
   ]
  },
  {
   "cell_type": "code",
   "execution_count": 4,
   "id": "6f69990b",
   "metadata": {},
   "outputs": [],
   "source": [
    "mydb = mysql.connector.connect(host=\"127.0.0.1\", user= \"root\", passwd= \"Adhiambo123@\", auth_plugin= \"mysql_native_password\", database= \"tutorial\")\n",
    "\n",
    "mycursor = mydb.cursor()\n",
    "\n",
    "del_ug = \"DELETE FROM african_cities WHERE country = 'Uganda'\"\n",
    "\n",
    "mycursor.execute(del_ug)\n",
    "\n",
    "mydb.commit()"
   ]
  },
  {
   "cell_type": "markdown",
   "id": "7df36508",
   "metadata": {},
   "source": [
    " ## Practice Excercise\n",
    " \n",
    " 1. Insert the records of two countries ie  Ethopia and Rwanda\n",
    " 2. Update the population of Nairobi to 2.5 Million people\n",
    " 3. Fetch all rows from the table you have updated\n",
    " "
   ]
  },
  {
   "cell_type": "code",
   "execution_count": 5,
   "id": "67a0d1df",
   "metadata": {},
   "outputs": [],
   "source": [
    "# Qn 1. Inserting the records of two countries ie Ethiopia and Rwanda\n",
    "\n",
    "mydb = mysql.connector.connect(host = \"127.0.0.1\", user= \"root\", passwd= \"Adhiambo123@\", auth_plugin= \"mysql_native_password\", database= \"tutorial\")\n",
    "\n",
    "mycursor = mydb.cursor()\n",
    "\n",
    "sqlform= \"INSERT INTO african_cities(country, capital_city, population) VALUES(%s, %s, %s)\"\n",
    "\n",
    "the_cities = [(\"Ethiopia\", \"Addis Ababa\", 800000), (\"Rwanda\", \"Kigali\", 650000)]\n",
    "\n",
    "mycursor.executemany(sqlform, the_cities)\n",
    "\n",
    "mydb.commit()\n"
   ]
  },
  {
   "cell_type": "code",
   "execution_count": 6,
   "id": "ae846013",
   "metadata": {},
   "outputs": [],
   "source": [
    "# Qn 2. Updating the population of Nairobi to 2.5 Million people\n",
    "\n",
    "mydb = mysql.connector.connect(host = \"127.0.0.1\", user= \"root\", passwd= \"Adhiambo123@\", auth_plugin= \"mysql_native_password\", database= \"tutorial\")\n",
    "\n",
    "mycursor = mydb.cursor()\n",
    "\n",
    "nai_update = \"UPDATE african_cities SET population = 2500000 WHERE country = 'Kenya'\"\n",
    "\n",
    "mycursor.execute(nai_update)\n",
    "\n",
    "mydb.commit()"
   ]
  },
  {
   "cell_type": "code",
   "execution_count": 8,
   "id": "655d4fe1",
   "metadata": {},
   "outputs": [
    {
     "name": "stdout",
     "output_type": "stream",
     "text": [
      "('Kenya', 'Nairobi', 2500000)\n",
      "('Tanzania', 'Dar-esalaam', 750000)\n",
      "('Ethiopia', 'Addis Ababa', 800000)\n",
      "('Rwanda', 'Kigali', 650000)\n"
     ]
    }
   ],
   "source": [
    "# Qn 3. Fetch all rows from the table you have updated\n",
    "\n",
    "mydb = mysql.connector.connect(host = \"127.0.0.1\", user= \"root\", passwd= \"Adhiambo123@\", auth_plugin= \"mysql_native_password\", database= \"tutorial\")\n",
    "\n",
    "mycursor = mydb.cursor()\n",
    "\n",
    "mycursor.execute(\"SELECT * FROM african_cities\")\n",
    "\n",
    "myresult = mycursor.fetchall()\n",
    "\n",
    "for row in myresult:\n",
    "    print(row)"
   ]
  }
 ],
 "metadata": {
  "kernelspec": {
   "display_name": "Python 3 (ipykernel)",
   "language": "python",
   "name": "python3"
  },
  "language_info": {
   "codemirror_mode": {
    "name": "ipython",
    "version": 3
   },
   "file_extension": ".py",
   "mimetype": "text/x-python",
   "name": "python",
   "nbconvert_exporter": "python",
   "pygments_lexer": "ipython3",
   "version": "3.9.12"
  }
 },
 "nbformat": 4,
 "nbformat_minor": 5
}
